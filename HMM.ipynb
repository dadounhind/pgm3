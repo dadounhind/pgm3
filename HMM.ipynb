{
 "cells": [
  {
   "cell_type": "code",
   "execution_count": 5,
   "metadata": {},
   "outputs": [],
   "source": [
    "import numpy as np\n",
    "from scipy.misc import logsumexp\n",
    "import matplotlib.pyplot as plt\n",
    "\n",
    "class HMM():\n",
    "    def __init__(self, transition, mu,sigma, obs,T,pi, q):\n",
    "        self.transition = transition #shape 4x4\n",
    "        self.state=[0,1,2,3] #a modifier \n",
    "        self.pi=pi\n",
    "        self.mu = mu\n",
    "        self.sigma = sigma\n",
    "        self.obs=obs\n",
    "        self.T=T\n",
    "        self.q=np.zeros(T)\n",
    "        self.emissions = np.zeros((T, 4))\n",
    "        self.label_cond_probas = np.zeros((T,4))\n",
    "\n",
    "   \n",
    "        \n",
    "    def estimate_labels_cond_probas(self):\n",
    "        for i, xi in enumerate(self.obs):\n",
    "            probs = np.zeros(4)\n",
    "            for q in self.state:\n",
    "                prob = self.alphas[i,q] + self.betas[i,q]\n",
    "               \n",
    "                probs[q] = prob\n",
    "  \n",
    "            self.label_cond_probas[i] = np.exp(probs - logsumexp(probs))\n",
    "        \n",
    "         \n",
    "    def estimate_emissions(self):\n",
    "        \n",
    "        for i,xi in enumerate(self.obs):\n",
    "            probs = self.multivariate_gaussian(xi)\n",
    "            self.emissions[i, :] = self.multivariate_gaussian(xi)\n",
    "        \n",
    "    \n",
    "    def multivariate_gaussian(self, xi):\n",
    "        \"\"\" Computes the vector of the probabilities p(u_t | q_t=i )\"\"\"\n",
    "        probs = np.zeros(4)\n",
    "        mu = self.mu\n",
    "        sigmas = self.sigma\n",
    "        inv_sigmas = [np.linalg.inv(sigmas[j]) for j in range(4)]\n",
    "        det_sigmas = [np.linalg.det(sigmas[j]) for j in range(4)]\n",
    "        for j in range(4):\n",
    "            x_m = (xi-mu[j]).reshape(2,1)\n",
    "            probs[j] = math.exp(- x_m.T.dot(inv_sigmas[j]).dot(x_m) / 2)\n",
    "            probs[j] /= (2 * math.pi * math.sqrt(det_sigmas[j]))\n",
    "\n",
    "       \n",
    "        return probs\n",
    "    \n",
    "        \n",
    "    def alpha_(self):\n",
    "        alphas = np.zeros((self.T,4))\n",
    "        alphas[0] = np.log(self.pi)\n",
    "        \n",
    "        for index in range(1,self.T):\n",
    "            probs = np.log(self.emissions[index])\n",
    "          \n",
    "            result = np.zeros(4)\n",
    "            for q in self.state:\n",
    "                result[q] = probs[q] + logsumexp(np.log(self.transition[q,:]) + alphas[index-1])\n",
    "             \n",
    "            alphas[index] = result\n",
    "        self.alphas = alphas\n",
    "\n",
    "\n",
    "    def beta_(self): #forwoard\n",
    "        betas = np.zeros((T,4))\n",
    "        \n",
    "        betas[(T-1)] = [0,0,0,0]\n",
    "        for index in range((self.T-2),-1,-1):\n",
    "            probs = np.log(self.emissions[index])\n",
    "            result = np.zeros(4)\n",
    "            for q in self.state:\n",
    "                result[q] = probs[q] + logsumexp(np.log(self.transition[:,q]) + betas[index+1])\n",
    "            betas[index] = result\n",
    "        self.betas = betas\n",
    "\n",
    "    def estimate_transition(self):\n",
    "        new_transition = np.zeros((4,4))\n",
    "        alphas = self.alphas\n",
    "        betas = self.betas\n",
    "        for k in range(4):\n",
    "            for l in range(4):\n",
    "                res=0\n",
    "               \n",
    "                for index in range(self.T):\n",
    "                    probs = self.emissions[index]\n",
    "                    log_inter_prob = np.log(self.transition[k,l]) + np.log(self.emissions[index, l]) \n",
    "                    log_inter_prob += alphas[index,l] + betas[index,k]\n",
    "                    log_inter_prob /= logsumexp(alphas[index,:] + betas[index,:])\n",
    "                    res += np.exp(log_inter_prob)\n",
    "                \n",
    "                new_transition[k,l] = res \n",
    "            new_transition[k,:] /= np.sum(new_transition[k,:])\n",
    "        self.transition = new_transition\n",
    "\n",
    "\n",
    "    \n",
    "    def estimate_mu(self):\n",
    "        \n",
    "        for k in range(4):\n",
    "            res=0\n",
    "            for index in range(self.T):\n",
    "                res += self.label_cond_probas[index,k] * self.obs[index] \n",
    "            self.mu[k] = res / np.sum(self.label_cond_probas[:,k])\n",
    "      \n",
    "        return self.mu\n",
    "    \n",
    "    def estimate_sigma(self):                         \n",
    "        for k in range(4):\n",
    "            res=0\n",
    "            for index in range(self.T):\n",
    "                x_u = self.obs[index] - self.mu[k]\n",
    "                x_u = x_u.reshape(2,1)\n",
    "                res += self.label_cond_probas[index,k] * np.outer(x_u, x_u)\n",
    "            self.sigma[k] = res / np.sum(self.label_cond_probas[:,k])\n",
    "        \n",
    "        return self.sigma\n",
    "    \n",
    "    \n",
    "    def estimate_multinomial(self):\n",
    "        for k in range(4):\n",
    "            self.pi[k] = self.label_cond_probas[0,k] / np.sum(self.label_cond_probas[0,:])\n",
    "        return self.pi\n",
    "    \n",
    "    \n",
    "    def estimate_log_likelihood(self, q):\n",
    "        loss = 0\n",
    "        q = [int(r) for r in q]\n",
    "        inv_sigmas = [np.linalg.inv(self.sigma[j]) for j in range(4)]\n",
    "        det_sigmas = [np.linalg.det(self.sigma[j]) for j in range(4)]\n",
    "        \n",
    "        loss += np.log(self.pi[q[0]])\n",
    "        \n",
    "        for index in range(self.T-1):\n",
    "            k = q[index]\n",
    "            l = q[index + 1]\n",
    "            loss += np.log(self.transition[k,l])\n",
    "        \n",
    "        for index in range(self.T):\n",
    "            k = q[index]\n",
    "            a = - np.log(det_sigmas[k]) / 2 - np.log(2 * np.pi) \n",
    "              \n",
    "            x_u = self.obs[index] - self.mu[k]\n",
    "            x_u = x_u.reshape(2,1)\n",
    "            a -= x_u.T.dot(inv_sigmas[k]).dot(x_u) / 2\n",
    "            loss += a \n",
    "            \n",
    "        return -loss\n",
    "            \n",
    " \n",
    "   \n",
    "    \n",
    "    def plot(self):\n",
    "        colors = [\"green\", \"red\", \"orange\", 'black']\n",
    "        for k in range(4):\n",
    "\n",
    "            X = [self.obs[i] for i in range(self.T) if self.q[i] == k]\n",
    "            x = [a[0] for a in X]\n",
    "            y = [a[1] for a in X]\n",
    "      \n",
    "        \n",
    "            plt.scatter(x, y, c=colors[k])\n",
    "        plt.show()\n",
    "    \n",
    "    def viterbi(self):\n",
    "        self.estimate_emissions()\n",
    "        viterbi = np.zeros((self.T, len(self.state)))\n",
    "        viterbi[0,:] = np.log(self.pi) + np.log(self.emissions[0])\n",
    "        phi = np.zeros((self.T, len(self.state)))\n",
    "        phi[0,:] = 0\n",
    "        for t in range(1,self.T):\n",
    "            for j in range(len(self.state)):\n",
    "                vtj = viterbi[t-1,:] + np.log(self.transition[:,j]) + np.log(self.emissions[t,j])\n",
    "                viterbi[t,j] = np.max(vtj)\n",
    "                phi[t,j] = np.argmax(vtj)\n",
    "           \n",
    "        prob = np.max(viterbi[self.T - 1])\n",
    "        pointer = np.argmax(viterbi[self.T - 1])\n",
    "        path = [pointer]\n",
    "        for t in range(1,self.T):\n",
    "            path = [phi[T - t, int(path[0])]] + path\n",
    "    \n",
    "        return path \n",
    "            \n",
    "        \n",
    "    def fit(self): \n",
    "        errors = []\n",
    "        N = 20\n",
    "        for j in range(N):\n",
    "           \n",
    "            self.estimate_emissions()\n",
    "           \n",
    "            self.alpha_()\n",
    "           \n",
    "            self.beta_()\n",
    "           \n",
    "            self.estimate_labels_cond_probas()\n",
    "           \n",
    "            self.estimate_transition()\n",
    "            self.estimate_mu()\n",
    "            \n",
    "            self.estimate_sigma()\n",
    "            self.estimate_multinomial()\n",
    "            \n",
    "            errors += [self.estimate_log_likelihood(self.q)[0][0]]\n",
    "            self.q = np.argmax(self.label_cond_probas, axis=1)\n",
    "\n",
    "        \n",
    "        plt.plot(range(N), errors)\n",
    "        plt.show()\n",
    "        self.plot()\n",
    "        return self.q\n",
    "            \n"
   ]
  },
  {
   "cell_type": "code",
   "execution_count": 6,
   "metadata": {},
   "outputs": [
    {
     "name": "stdout",
     "output_type": "stream",
     "text": [
      "Loading data EMGaussian.data\n",
      "Loading data EMGaussian.test\n"
     ]
    }
   ],
   "source": [
    "import pandas as pd\n",
    "\n",
    "def read_file(filename):\n",
    "    \"\"\" Load the data\n",
    "    return:: x array, y array \"\"\"\n",
    "    print(\"Loading data \" + filename)\n",
    "    df = pd.read_csv(filename, delimiter=' ',  header=None)\n",
    "    return df.values\n",
    "\n",
    "filename = \"EMGaussian.data\"\n",
    "filename_test = \"EMGaussian.test\"\n",
    "x = read_file(filename)\n",
    "x_test = read_file(filename_test)\n"
   ]
  },
  {
   "cell_type": "code",
   "execution_count": 7,
   "metadata": {},
   "outputs": [
    {
     "name": "stdout",
     "output_type": "stream",
     "text": [
      "Kmeans converged after 8 iterations, loss: 3240.173266\n",
      "Fit Gaussian converged after 7 iterations\n"
     ]
    },
    {
     "data": {
      "image/png": "[encoded data removed]",
      "text/plain": [
       "<matplotlib.figure.Figure at 0x10cf04b50>"
      ]
     },
     "metadata": {},
     "output_type": "display_data"
    },
    {
     "data": {
      "image/png": "[encoded data removed]",
      "text/plain": [
       "<matplotlib.figure.Figure at 0x10d0aefd0>"
      ]
     },
     "metadata": {},
     "output_type": "display_data"
    },
    {
     "data": {
      "image/png": "[encoded data removed]",
      "text/plain": [
       "<matplotlib.figure.Figure at 0x10d202fd0>"
      ]
     },
     "metadata": {},
     "output_type": "display_data"
    },
    {
     "name": "stdout",
     "output_type": "stream",
     "text": [
      "[1 2 3 1 1 1 1 3 2 3 2 3 2 0 0 0 2 0 3 3 2 3 2 3 2 3 2 3 2 3 2 3 2 3 2 3 1\n",
      " 3 2 3 2 3 2 0 2 3 2 3 2 3 2 3 2 3 2 3 2 3 3 2 3 2 3 2 0 2 3 2 3 2 3 2 3 2\n",
      " 3 2 3 2 3 2 3 2 3 2 1 1 1 1 1 1 1 1 1 1 3 1 1 1 1 3 2 3 2 3 2 3 2 3 2 3 2\n",
      " 3 2 3 2 0 0 0 0 0 0 0 0 0 0 0 0 0 0 0 0 0 0 0 0 0 0 0 0 2 3 2 3 2 3 2 2 3\n",
      " 2 3 2 3 2 0 0 0 0 0 0 1 3 2 3 2 0 3 2 0 2 3 2 0 2 3 2 0 2 3 2 3 2 3 2 0 0\n",
      " 0 0 0 3 2 3 2 3 2 3 2 3 2 0 2 3 2 3 2 3 2 3 2 0 0 0 0 0 1 1 1 1 1 1 1 1 3\n",
      " 2 3 2 2 3 2 3 1 1 1 1 1 1 1 1 1 1 1 1 1 1 1 1 1 1 1 1 0 0 2 3 2 3 2 3 2 3\n",
      " 2 1 1 1 1 1 1 1 0 2 3 2 0 2 3 2 3 2 3 2 3 2 3 2 3 2 3 2 3 2 1 1 1 1 1 1 1\n",
      " 1 1 1 1 1 1 1 1 1 1 1 1 1 1 1 1 1 3 3 3 3 3 2 1 1 0 0 0 0 0 0 0 0 0 0 0 0\n",
      " 0 0 3 2 3 2 3 2 0 2 3 2 3 2 1 1 1 3 2 1 1 1 1 1 3 1 1 1 1 1 1 1 1 1 1 1 1\n",
      " 3 1 1 1 1 3 3 2 3 2 1 1 0 2 3 2 3 2 1 1 1 1 1 0 0 3 2 3 2 3 0 0 0 0 0 0 0\n",
      " 0 2 0 2 3 2 3 2 3 2 3 2 3 2 3 2 3 1 1 1 1 1 1 1 1 1 1 1 3 1 1 1 1 1 1 1 0\n",
      " 2 3 2 3 2 0 0 0 0 0 0 0 0 0 0 0 0 0 0 0 0 0 0 0 1 1 1 1 1 1 1 3 2 0 2 3 2\n",
      " 3 2 3 2 3 1 1 1 1 1 1 1 1 1 1 1 1 1 1]\n"
     ]
    },
    {
     "data": {
      "text/plain": [
       "array([[2347.07212497]])"
      ]
     },
     "execution_count": 7,
     "metadata": {},
     "output_type": "execute_result"
    }
   ],
   "source": [
    "from emgaussian import EMGaussian\n",
    "from kmean import KMeans\n",
    "import matplotlib.pyplot as plt\n",
    "import math\n",
    "#Initialize parameters with EMGaussian\n",
    "\n",
    "emg = EMGaussian(x, isotropic=False)\n",
    "emg.fit(plot_likelihood=True)\n",
    "plt.show()\n",
    "\n",
    "pi=emg.pi\n",
    "mu=emg.mu\n",
    "sigma=emg.sigmas\n",
    "transition = np.array([[0.25, 0.25, 0.25, 0.25], [0.25, 0.25, 0.25, 0.25], [0.25, 0.25, 0.25, 0.25], [0.25, 0.25, 0.25, 0.25]])\n",
    "obs = x\n",
    "q = emg.labels\n",
    "T = x.shape[0]\n",
    "\n",
    "#HMM\n",
    "model = HMM(transition, mu,sigma,obs,T,pi, q)\n",
    "q = model.fit()\n",
    "print(q)\n",
    "model.estimate_log_likelihood(q)"
   ]
  },
  {
   "cell_type": "code",
   "execution_count": 91,
   "metadata": {},
   "outputs": [
    {
     "name": "stdout",
     "output_type": "stream",
     "text": [
      "[3.0, 2.0, 0.0, 3.0, 3.0, 3.0, 3.0, 0.0, 2.0, 0.0, 2.0, 0.0, 2.0, 1.0, 1.0, 1.0, 2.0, 1.0, 0.0, 0.0, 2.0, 0.0, 2.0, 0.0, 2.0, 0.0, 2.0, 0.0, 2.0, 0.0, 2.0, 0.0, 2.0, 0.0, 2.0, 0.0, 3.0, 0.0, 2.0, 0.0, 2.0, 0.0, 2.0, 1.0, 2.0, 0.0, 2.0, 0.0, 2.0, 0.0, 2.0, 0.0, 2.0, 0.0, 2.0, 0.0, 2.0, 0.0, 0.0, 2.0, 0.0, 2.0, 0.0, 2.0, 1.0, 2.0, 0.0, 2.0, 0.0, 2.0, 0.0, 2.0, 0.0, 2.0, 0.0, 2.0, 0.0, 2.0, 0.0, 2.0, 0.0, 2.0, 0.0, 2.0, 3.0, 3.0, 3.0, 3.0, 3.0, 3.0, 3.0, 3.0, 3.0, 3.0, 0.0, 3.0, 3.0, 3.0, 3.0, 0.0, 2.0, 0.0, 2.0, 0.0, 2.0, 0.0, 2.0, 0.0, 2.0, 0.0, 2.0, 0.0, 2.0, 0.0, 2.0, 1.0, 1.0, 1.0, 1.0, 1.0, 1.0, 1.0, 1.0, 1.0, 1.0, 1.0, 1.0, 1.0, 1.0, 1.0, 1.0, 1.0, 1.0, 1.0, 1.0, 1.0, 1.0, 1.0, 1.0, 2.0, 0.0, 2.0, 0.0, 2.0, 0.0, 2.0, 2.0, 0.0, 2.0, 0.0, 2.0, 0.0, 2.0, 1.0, 1.0, 1.0, 1.0, 1.0, 1.0, 3.0, 0.0, 2.0, 0.0, 2.0, 1.0, 0.0, 2.0, 1.0, 2.0, 0.0, 2.0, 1.0, 2.0, 0.0, 2.0, 1.0, 2.0, 0.0, 2.0, 0.0, 2.0, 0.0, 2.0, 1.0, 1.0, 1.0, 1.0, 1.0, 0.0, 2.0, 0.0, 2.0, 0.0, 2.0, 0.0, 2.0, 0.0, 2.0, 1.0, 2.0, 0.0, 2.0, 0.0, 2.0, 0.0, 2.0, 0.0, 2.0, 1.0, 1.0, 1.0, 1.0, 1.0, 3.0, 3.0, 3.0, 3.0, 3.0, 3.0, 3.0, 3.0, 0.0, 2.0, 0.0, 2.0, 2.0, 0.0, 2.0, 0.0, 3.0, 3.0, 3.0, 3.0, 3.0, 3.0, 3.0, 3.0, 3.0, 3.0, 3.0, 3.0, 3.0, 3.0, 3.0, 3.0, 3.0, 3.0, 3.0, 3.0, 1.0, 1.0, 2.0, 0.0, 2.0, 0.0, 2.0, 0.0, 2.0, 0.0, 2.0, 3.0, 3.0, 3.0, 3.0, 3.0, 3.0, 3.0, 1.0, 2.0, 0.0, 2.0, 1.0, 2.0, 0.0, 2.0, 0.0, 2.0, 0.0, 2.0, 0.0, 2.0, 0.0, 2.0, 0.0, 2.0, 0.0, 2.0, 0.0, 2.0, 3.0, 3.0, 3.0, 3.0, 3.0, 3.0, 3.0, 3.0, 3.0, 3.0, 3.0, 3.0, 3.0, 3.0, 3.0, 3.0, 3.0, 3.0, 3.0, 3.0, 3.0, 3.0, 3.0, 3.0, 0.0, 0.0, 0.0, 0.0, 0.0, 2.0, 3.0, 3.0, 1.0, 1.0, 1.0, 1.0, 1.0, 1.0, 1.0, 1.0, 1.0, 1.0, 1.0, 1.0, 1.0, 1.0, 0.0, 2.0, 0.0, 2.0, 0.0, 2.0, 1.0, 2.0, 0.0, 2.0, 0.0, 2.0, 3.0, 3.0, 3.0, 0.0, 2.0, 3.0, 3.0, 3.0, 3.0, 3.0, 0.0, 3.0, 3.0, 3.0, 3.0, 3.0, 3.0, 3.0, 3.0, 3.0, 3.0, 3.0, 3.0, 0.0, 3.0, 3.0, 3.0, 3.0, 0.0, 0.0, 2.0, 0.0, 2.0, 3.0, 3.0, 1.0, 2.0, 0.0, 2.0, 0.0, 2.0, 3.0, 3.0, 3.0, 3.0, 3.0, 1.0, 1.0, 0.0, 2.0, 0.0, 2.0, 0.0, 1.0, 1.0, 1.0, 1.0, 1.0, 1.0, 1.0, 1.0, 2.0, 1.0, 2.0, 0.0, 2.0, 0.0, 2.0, 0.0, 2.0, 0.0, 2.0, 0.0, 2.0, 0.0, 2.0, 0.0, 3.0, 3.0, 3.0, 3.0, 3.0, 3.0, 3.0, 3.0, 3.0, 3.0, 3.0, 0.0, 3.0, 3.0, 3.0, 3.0, 3.0, 3.0, 3.0, 1.0, 2.0, 0.0, 2.0, 0.0, 2.0, 1.0, 1.0, 1.0, 1.0, 1.0, 1.0, 1.0, 1.0, 1.0, 1.0, 1.0, 1.0, 1.0, 1.0, 1.0, 1.0, 1.0, 1.0, 1.0, 3.0, 3.0, 3.0, 3.0, 3.0, 3.0, 3.0, 0.0, 2.0, 1.0, 2.0, 0.0, 2.0, 0.0, 2.0, 0.0, 2.0, 0.0, 3.0, 3.0, 3.0, 3.0, 3.0, 3.0, 3.0, 3.0, 3.0, 3.0, 3.0, 3.0, 3.0, 3]\n"
     ]
    },
    {
     "data": {
      "text/plain": [
       "array([[-2347.0718848]])"
      ]
     },
     "execution_count": 91,
     "metadata": {},
     "output_type": "execute_result"
    }
   ],
   "source": [
    "q = model.viterbi()\n",
    "model.estimate_log_likelihood(q)"
   ]
  },
  {
   "cell_type": "code",
   "execution_count": 87,
   "metadata": {},
   "outputs": [
    {
     "name": "stdout",
     "output_type": "stream",
     "text": [
      "501\n",
      "500\n"
     ]
    }
   ],
   "source": [
    "print(len(q))\n",
    "print(model.T)"
   ]
  },
  {
   "cell_type": "code",
   "execution_count": null,
   "metadata": {},
   "outputs": [],
   "source": [
    " def mean_estimate_log_likelhood(self):\n",
    "        loss = 0\n",
    "        inv_sigmas = [np.linalg.inv(self.sigma[j]) for j in range(4)]\n",
    "        det_sigmas = [np.linalg.det(self.sigma[j]) for j in range(4)]\n",
    "        for q in self.state:\n",
    "            loss += np.log(self.pi[q] * self.label_cond_probas[0,q])\n",
    "        for index in range(self.T):\n",
    "\n",
    "            for k in range(4):\n",
    "                for l in range(4):\n",
    "                    log_inter_prob = np.log(self.transition[k,l]) + np.log(self.emissions[index, l]) \n",
    "                    log_inter_prob += self.alphas[index,l] + self.betas[index,k]\n",
    "                    log_inter_prob /= logsumexp(self.alphas[index,:] + self.betas[index,:])\n",
    "                    loss += np.log(self.transition[k,l]) * np.exp(log_inter_prob)\n",
    "        \n",
    "        for index in range(self.T):\n",
    "            for k in range(4):\n",
    "                a = - np.log(det_sigmas[k]) / 2 - np.log(2 * np.pi)\n",
    "              \n",
    "                x_u = self.obs[index] - self.mu[k]\n",
    "                x_u = x_u.reshape(2,1)\n",
    "                a -= x_u.T.dot(inv_sigmas[k]).dot(x_u) / 2\n",
    "                loss -= a * self.label_cond_probas[index,k]\n",
    "        return loss\n",
    "    "
   ]
  }
 ],
 "metadata": {
  "kernelspec": {
   "display_name": "Python 2",
   "language": "python",
   "name": "python2"
  },
  "language_info": {
   "codemirror_mode": {
    "name": "ipython",
    "version": 2
   },
   "file_extension": ".py",
   "mimetype": "text/x-python",
   "name": "python",
   "nbconvert_exporter": "python",
   "pygments_lexer": "ipython2",
   "version": "2.7.14"
  }
 },
 "nbformat": 4,
 "nbformat_minor": 2
}
