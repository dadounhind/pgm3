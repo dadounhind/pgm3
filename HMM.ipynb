{
 "cells": [
  {
   "cell_type": "code",
   "execution_count": null,
   "metadata": {},
   "outputs": [],
   "source": [
    "import numpy as np\n",
    "\n",
    "class HMM():\n",
    "    def __init__(self, transition, mu,sigma, obs,T,pi):\n",
    "        self.transition = transition #shape 4x4\n",
    "        self.state=[0,1,2,3] #a modifier \n",
    "        self.pi=pi\n",
    "        self.mu = mu\n",
    "        self.sigma = sigma\n",
    "        self.obs=obs\n",
    "        self.T=T\n",
    "        self.q=np.zeros(T)\n",
    "\n",
    "    \n",
    "    def  multivariate_gaussian(self, xi):\n",
    "        \"\"\" Computes the vector of the probabilities p(u_t | q_t=i )\"\"\"\n",
    "        probs = np.zeros(4)\n",
    "        mu = self.mu\n",
    "        sigmas = self.sigma\n",
    "\n",
    "        inv_sigmas = [np.linalg.inv(sigmas[j]) for j in range(4)]\n",
    "        det_sigmas = [np.linalg.det(sigmas[j]) for j in range(4)]\n",
    "        for j in range(4):\n",
    "            x_m=(xi-mu[j]).reshape(2,1)\n",
    "            probs[j] = math.exp(-(xi - mu[j]).T.dot(inv_sigmas[j]).dot(xi - mu[j]) / 2)\n",
    "            probs[j] /= (2 * math.pi * math.sqrt(det_sigmas[j]))\n",
    "\n",
    "        #probs = probs / np.sum(probs)\n",
    "        return probs\n",
    "       \n",
    "    def alpha_(self,index,probs): #backward\n",
    "        result=np.zeros(4)\n",
    "        if index==0:\n",
    "            return self.pi\n",
    "        else:\n",
    "            alpha=self.alpha_(index-1,probs)\n",
    "            for q in self.state:\n",
    "                result[q]= probs[q]*np.sum(self.transition[q,:].dot(alpha))\n",
    "            return result\n",
    "        \n",
    "    def beta_(self,index,probs): #forwoard\n",
    "        result=np.zeros(4)\n",
    "        if index == T:\n",
    "            return 1\n",
    "        else: \n",
    "            beta = self.beta_(index+1,probs)\n",
    "            for q in self.state:\n",
    "                result[q]=np.sum(probs[q]*self.transition[:,q].dot(beta))  \n",
    "            return result \n",
    "        \n",
    "    def estimate_transition(self,alphas,betas,probs):\n",
    "        for k in range(4):\n",
    "            for l in range(4):\n",
    "                res=0\n",
    "                denominateur=0\n",
    "                for index in range(self.T):\n",
    "                    res+=self.transition[k,l]*alphas[index][l]*betas[index][k]*probs[k]\n",
    "                    denominateur+=np.sum(alphas[index].dot(betas[index]))\n",
    "                self.transition[k,l]=res/denominateur\n",
    "        print('transision',self.transition)\n",
    "        return self.transition\n",
    "    \n",
    "    def estimate_mu(self,alphas,betas):\n",
    "        for k in range(4):\n",
    "            res=0\n",
    "            for index in range(self.T):\n",
    "                res = res + alphas[index][k]*betas[index][k]*(self.obs[index])/np.sum([alphas[index][k]*betas[index][k] for index in range(T)])\n",
    "            self.mu[k]=res\n",
    "        print('selfmu',self.mu)\n",
    "        return self.mu\n",
    "    def estimate_sigma(self,alphas,betas):                         \n",
    "        for k in range(4):\n",
    "            res=0\n",
    "            for index in range(self.T):\n",
    "                x_u=self.obs[index]-self.mu[k]\n",
    "                x_u=x_u.reshape(2,1)\n",
    "                res = res+ alphas[index][k]*betas[index][k]*(x_u).dot(x_u.T)/np.sum([alphas[index][k]*betas[index][k] for index in range(T)])\n",
    "            self.sigma[k]=res\n",
    "        print('selfsigmas',self.sigma)\n",
    "        return self.sigma\n",
    "    \n",
    "    def estimate_multinomial(self,alphas,betas):\n",
    "        for k in range(4):\n",
    "            self.pi[k]=alphas[0][k]*betas[0][k]/np.sum(alphas[0].dot(betas[0]))\n",
    "        return self.pi\n",
    "    \n",
    "        \n",
    "    def fit(self): \n",
    "        for j in range(10):\n",
    "            #forward,backward (E-step)\n",
    "            alphas=[[] for i in range(self.T)]\n",
    "            betas=[[] for i in range(self.T)]\n",
    "            for index in range(self.T):\n",
    "                probs=self.multivariate_gaussian(self.obs[index])\n",
    "                alphas[index]=self.alpha_(index,probs)\n",
    "                betas[index]=self.beta_(index,probs)\n",
    "                self.q[index]=np.argmax(alphas[index] * betas[index] /np.sum(alphas[index].dot(betas[index])))\n",
    "            alphas=np.array(alphas)\n",
    "            print('alpha',alphas)\n",
    "            betas=np.array(betas)\n",
    "            print('beta',betas)\n",
    "            #maximization(M-step)\n",
    "            self.transition=self.estimate_transition(alphas,betas,probs)\n",
    "            self.mu=self.estimate_mu(alphas,betas)\n",
    "            self.sigma=self.estimate_sigma(alphas,betas)\n",
    "            self.multinomial=self.estimate_multinomial(alphas,betas)\n",
    "            \n",
    "            print('fin')\n",
    "          \n",
    "        return self.q\n",
    "            \n",
    "            \n",
    "        \n",
    "    "
   ]
  },
  {
   "cell_type": "code",
   "execution_count": 11,
   "metadata": {},
   "outputs": [
    {
     "name": "stdout",
     "output_type": "stream",
     "text": [
      "Loading data EMGaussian.data\n",
      "Loading data EMGaussian.test\n"
     ]
    }
   ],
   "source": [
    "import pandas as pd\n",
    "\n",
    "def read_file(filename):\n",
    "    \"\"\" Load the data\n",
    "    return:: x array, y array \"\"\"\n",
    "    print(\"Loading data \" + filename)\n",
    "    df = pd.read_csv(filename, delimiter=' ',  header=None)\n",
    "    return df.values\n",
    "\n",
    "filename = \"EMGaussian.data\"\n",
    "filename_test = \"EMGaussian.test\"\n",
    "x = read_file(filename)\n",
    "x_test = read_file(filename_test)\n"
   ]
  },
  {
   "cell_type": "code",
   "execution_count": null,
   "metadata": {},
   "outputs": [
    {
     "name": "stdout",
     "output_type": "stream",
     "text": [
      "Kmeans converged after 9 iterations, loss: 3238.691087\n",
      "Fit Gaussian converged after 10 iterations\n"
     ]
    },
    {
     "name": "stderr",
     "output_type": "stream",
     "text": [
      "C:\\Users\\Hind Dadoun\\Anaconda3\\lib\\site-packages\\ipykernel_launcher.py:101: RuntimeWarning: invalid value encountered in true_divide\n"
     ]
    }
   ],
   "source": [
    "from emgaussian import EMGaussian\n",
    "from kmean import KMeans\n",
    "import matplotlib.pyplot as plt\n",
    "import math\n",
    "#Initialize parameters with EMGaussian\n",
    "emg = EMGaussian(x, isotropic=False)\n",
    "emg.fit(plot_likelihood=False)\n",
    "\n",
    "pi=emg.pi\n",
    "mu=emg.mu\n",
    "sigma=emg.sigmas\n",
    "transition = np.array([ [0.25, 0.25, 0.25, 0.25], [0.25, 0.25, 0.25, 0.25], [0.25, 0.25, 0.25, 0.25], [0.25, 0.25, 0.25, 0.25]])\n",
    "obs = x\n",
    "T=x.shape[0]\n",
    "\n",
    "#HMM\n",
    "model = HMM(transition, mu,sigma,obs,T,pi)\n",
    "model.fit()"
   ]
  },
  {
   "cell_type": "code",
   "execution_count": null,
   "metadata": {},
   "outputs": [],
   "source": [
    "T"
   ]
  },
  {
   "cell_type": "code",
   "execution_count": null,
   "metadata": {},
   "outputs": [],
   "source": []
  }
 ],
 "metadata": {
  "kernelspec": {
   "display_name": "Python 3",
   "language": "python",
   "name": "python3"
  },
  "language_info": {
   "codemirror_mode": {
    "name": "ipython",
    "version": 3
   },
   "file_extension": ".py",
   "mimetype": "text/x-python",
   "name": "python",
   "nbconvert_exporter": "python",
   "pygments_lexer": "ipython3",
   "version": "3.7.0"
  }
 },
 "nbformat": 4,
 "nbformat_minor": 2
}
